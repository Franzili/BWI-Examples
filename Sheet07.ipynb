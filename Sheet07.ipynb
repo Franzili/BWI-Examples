{
 "cells": [
  {
   "cell_type": "code",
   "execution_count": 16,
   "outputs": [
    {
     "ename": "KeyboardInterrupt",
     "evalue": "",
     "output_type": "error",
     "traceback": [
      "\u001B[0;31m---------------------------------------------------------------------------\u001B[0m",
      "\u001B[0;31mKeyboardInterrupt\u001B[0m                         Traceback (most recent call last)",
      "Input \u001B[0;32mIn [16]\u001B[0m, in \u001B[0;36m<cell line: 5>\u001B[0;34m()\u001B[0m\n\u001B[1;32m      8\u001B[0m         x \u001B[38;5;241m=\u001B[39m y               \u001B[38;5;66;03m# weise x den Wert von y zu ...\u001B[39;00m\n\u001B[1;32m      9\u001B[0m         y \u001B[38;5;241m=\u001B[39m h               \u001B[38;5;66;03m# ... und y den in h zwischengespeicherten Wert von x zu\u001B[39;00m\n\u001B[0;32m---> 10\u001B[0m     x \u001B[38;5;241m=\u001B[39m \u001B[43mx\u001B[49m\u001B[43m \u001B[49m\u001B[38;5;241;43m-\u001B[39;49m\u001B[43m \u001B[49m\u001B[43my\u001B[49m               \u001B[38;5;66;03m# Weise x die Differenz zwischen x und y zu\u001B[39;00m\n\u001B[1;32m     11\u001B[0m \u001B[38;5;28mprint\u001B[39m(\u001B[38;5;124m\"\u001B[39m\u001B[38;5;124mggT:\u001B[39m\u001B[38;5;124m\"\u001B[39m, y)\n",
      "\u001B[0;31mKeyboardInterrupt\u001B[0m: "
     ]
    }
   ],
   "source": [
    "x = input(\"1. Zahl: \")      # liest die erste Zahl als Zeichenkette ein und speichert sie in der neuen Variable x\n",
    "y = input(\"2. Zahl: \")      # liest die zweite Zahl als Zeichenkette ein und speichert sie in der neuen Variable y\n",
    "x = int(x)                  # Umwandeln der Zeichenketten in Zahlen vom Datentyp int\n",
    "y = int(y)                  # Umwandeln der Zeichenketten in Zahlen vom Datentyp int\n",
    "while x > 0:                # Solange x > 0 ist ...\n",
    "    if x < y:               # Ist x < y, dann vertausche x und y\n",
    "        h = x               # speichere den Wert von x in h zwischen\n",
    "        x = y               # weise x den Wert von y zu ...\n",
    "        y = h               # ... und y den in h zwischengespeicherten Wert von x zu\n",
    "    x = x - y               # Weise x die Differenz zwischen x und y zu\n",
    "print(\"ggT:\", y)"
   ],
   "metadata": {
    "collapsed": false,
    "pycharm": {
     "name": "#%%\n"
    }
   }
  },
  {
   "cell_type": "code",
   "execution_count": null,
   "outputs": [],
   "source": [],
   "metadata": {
    "collapsed": false,
    "pycharm": {
     "name": "#%%\n"
    }
   }
  }
 ],
 "metadata": {
  "kernelspec": {
   "display_name": "Python 3",
   "language": "python",
   "name": "python3"
  },
  "language_info": {
   "codemirror_mode": {
    "name": "ipython",
    "version": 2
   },
   "file_extension": ".py",
   "mimetype": "text/x-python",
   "name": "python",
   "nbconvert_exporter": "python",
   "pygments_lexer": "ipython2",
   "version": "2.7.6"
  }
 },
 "nbformat": 4,
 "nbformat_minor": 0
}