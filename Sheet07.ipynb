{
 "cells": [
  {
   "cell_type": "code",
   "execution_count": 18,
   "outputs": [
    {
     "name": "stdout",
     "output_type": "stream",
     "text": [
      "Der ggT ist: 3\n"
     ]
    }
   ],
   "source": [
    "x = input(\"1. Zahl: \")      # liest die erste Zahl als Zeichenkette ein und speichert sie in der neuen Variable x\n",
    "y = input(\"2. Zahl: \")      # liest die zweite Zahl als Zeichenkette ein und speichert sie in der neuen Variable y\n",
    "x = int(x)                  # Umwandeln der Zeichenketten in Zahlen vom Datentyp int\n",
    "y = int(y)                  # Umwandeln der Zeichenketten in Zahlen vom Datentyp int\n",
    "while x > 0:                # Solange x > 0 ist ...\n",
    "    if x < y:               # Ist x < y, dann vertausche x und y\n",
    "        h = x               # speichere den Wert von x in h zwischen\n",
    "        x = y               # weise x den Wert von y zu ...\n",
    "        y = h               # ... und y den in h zwischengespeicherten Wert von x zu\n",
    "    x = x - y               # Weise x die Differenz zwischen x und y zu\n",
    "print(\"Der ggT ist:\", y)"
   ],
   "metadata": {
    "collapsed": false,
    "pycharm": {
     "name": "#%%\n"
    }
   }
  }
 ],
 "metadata": {
  "kernelspec": {
   "display_name": "Python 3",
   "language": "python",
   "name": "python3"
  },
  "language_info": {
   "codemirror_mode": {
    "name": "ipython",
    "version": 2
   },
   "file_extension": ".py",
   "mimetype": "text/x-python",
   "name": "python",
   "nbconvert_exporter": "python",
   "pygments_lexer": "ipython2",
   "version": "2.7.6"
  }
 },
 "nbformat": 4,
 "nbformat_minor": 0
}