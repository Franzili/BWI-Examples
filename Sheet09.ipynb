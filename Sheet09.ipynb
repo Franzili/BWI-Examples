{
 "cells": [
  {
   "cell_type": "markdown",
   "source": [
    "# 1. Python Taschenrechner"
   ],
   "metadata": {
    "collapsed": false,
    "pycharm": {
     "name": "#%% md\n"
    }
   }
  },
  {
   "cell_type": "code",
   "execution_count": 56,
   "metadata": {
    "collapsed": true,
    "pycharm": {
     "name": "#%%\n"
    }
   },
   "outputs": [],
   "source": [
    "while not fertig:\n",
    "    fertig = True\n",
    "    x = float(input(\"Gib eine Zahl ein: \"))             # 3\n",
    "    op = input(\"Gib eine Rechenoperation ein: \")        # *\n",
    "    y = float(input(\"Gib eine weitere Zahl ein: \"))     # 4\n",
    "    result = 0\n",
    "    if op == '+':\n",
    "        result = x + y\n",
    "    elif op == '-':\n",
    "        result = x - y\n",
    "    elif op == '*':\n",
    "        result = x * y\n",
    "    elif op == '/':\n",
    "        result = x / y\n",
    "    else:\n",
    "        print(\"Der Operand ist ungültig, versuchs nochmal.\")\n",
    "        fertig = False\n",
    "    if result == 42:\n",
    "        print(\"Die Antwort auf ALLES ist ...\")\n",
    "    print(\"=\", result)"
   ]
  },
  {
   "cell_type": "markdown",
   "source": [
    "# 2. Python - Listen (Einstieg)"
   ],
   "metadata": {
    "collapsed": false,
    "pycharm": {
     "name": "#%% md\n"
    }
   }
  },
  {
   "cell_type": "code",
   "execution_count": 57,
   "outputs": [],
   "source": [
    "tagesliste = [\"Nudeln\", \"Quark\", \"Eier\", \"Eis\", \"Tomaten\", \"Basilikum\", \"Nudeln\", \"Oregano\", \"Pizzateig\", \"Käse\", \"Nudeln\"]\n",
    "monatsliste = [\"Toilettenpapier\", \"Zahnbürste\", \"Duschgel\", \"Shampoo\", \"Taschentücher\"]"
   ],
   "metadata": {
    "collapsed": false,
    "pycharm": {
     "name": "#%%\n"
    }
   }
  },
  {
   "cell_type": "markdown",
   "source": [
    "### 1."
   ],
   "metadata": {
    "collapsed": false,
    "pycharm": {
     "name": "#%% md\n"
    }
   }
  },
  {
   "cell_type": "code",
   "execution_count": 58,
   "outputs": [
    {
     "data": {
      "text/plain": "['Nudeln',\n 'Quark',\n 'Eier',\n 'Eis',\n 'Tomaten',\n 'Basilikum',\n 'Nudeln',\n 'Oregano',\n 'Pizzateig',\n 'Käse',\n 'Nudeln',\n 'Toilettenpapier',\n 'Zahnbürste',\n 'Duschgel',\n 'Shampoo',\n 'Taschentücher']"
     },
     "execution_count": 58,
     "metadata": {},
     "output_type": "execute_result"
    }
   ],
   "source": [
    "neue_liste = tagesliste + monatsliste\n",
    "neue_liste"
   ],
   "metadata": {
    "collapsed": false,
    "pycharm": {
     "name": "#%%\n"
    }
   }
  },
  {
   "cell_type": "markdown",
   "source": [
    "### 2."
   ],
   "metadata": {
    "collapsed": false,
    "pycharm": {
     "name": "#%% md\n"
    }
   }
  },
  {
   "cell_type": "code",
   "execution_count": 59,
   "outputs": [
    {
     "data": {
      "text/plain": "3"
     },
     "execution_count": 59,
     "metadata": {},
     "output_type": "execute_result"
    }
   ],
   "source": [
    "neue_liste.count(\"Nudeln\")"
   ],
   "metadata": {
    "collapsed": false,
    "pycharm": {
     "name": "#%%\n"
    }
   }
  },
  {
   "cell_type": "markdown",
   "source": [
    "### 3."
   ],
   "metadata": {
    "collapsed": false,
    "pycharm": {
     "name": "#%% md\n"
    }
   }
  },
  {
   "cell_type": "code",
   "execution_count": 60,
   "outputs": [
    {
     "data": {
      "text/plain": "['Eier',\n 'Shampoo',\n 'Zahnbürste',\n 'Taschentücher',\n 'Oregano',\n 'Eis',\n 'Pizzateig',\n 'Toilettenpapier',\n 'Basilikum',\n 'Duschgel',\n 'Nudeln',\n 'Quark',\n 'Käse',\n 'Tomaten']"
     },
     "execution_count": 60,
     "metadata": {},
     "output_type": "execute_result"
    }
   ],
   "source": [
    "neue_liste = list(set(neue_liste))\n",
    "neue_liste"
   ],
   "metadata": {
    "collapsed": false,
    "pycharm": {
     "name": "#%%\n"
    }
   }
  },
  {
   "cell_type": "markdown",
   "source": [
    "### 4."
   ],
   "metadata": {
    "collapsed": false,
    "pycharm": {
     "name": "#%% md\n"
    }
   }
  },
  {
   "cell_type": "code",
   "execution_count": 61,
   "outputs": [
    {
     "data": {
      "text/plain": "['Eier',\n 'Shampoo',\n 'Zahnbürste',\n 'Taschentücher',\n 'Oregano',\n 'Eis',\n 'Pizzateig',\n 'Toilettenpapier',\n 'Basilikum',\n 'Duschgel',\n 'Nudeln',\n 'Quark',\n 'Käse',\n 'Tomaten',\n 'Nutella']"
     },
     "execution_count": 61,
     "metadata": {},
     "output_type": "execute_result"
    }
   ],
   "source": [
    "neue_liste.append(\"Nutella\")\n",
    "neue_liste"
   ],
   "metadata": {
    "collapsed": false,
    "pycharm": {
     "name": "#%%\n"
    }
   }
  },
  {
   "cell_type": "markdown",
   "source": [
    "### 5."
   ],
   "metadata": {
    "collapsed": false,
    "pycharm": {
     "name": "#%% md\n"
    }
   }
  },
  {
   "cell_type": "code",
   "execution_count": 62,
   "outputs": [
    {
     "data": {
      "text/plain": "['Eier',\n 'Shampoo',\n 'Zahnbürste',\n 'Taschentücher',\n 'Eis',\n 'Toilettenpapier',\n 'Basilikum',\n 'Duschgel',\n 'Nudeln',\n 'Quark',\n 'Käse',\n 'Tomaten',\n 'Nutella']"
     },
     "execution_count": 62,
     "metadata": {},
     "output_type": "execute_result"
    }
   ],
   "source": [
    "neue_liste.remove(\"Oregano\")\n",
    "neue_liste.remove(\"Pizzateig\")\n",
    "neue_liste"
   ],
   "metadata": {
    "collapsed": false,
    "pycharm": {
     "name": "#%%\n"
    }
   }
  },
  {
   "cell_type": "markdown",
   "source": [
    "### 6."
   ],
   "metadata": {
    "collapsed": false,
    "pycharm": {
     "name": "#%% md\n"
    }
   }
  },
  {
   "cell_type": "code",
   "execution_count": 63,
   "outputs": [
    {
     "data": {
      "text/plain": "['Quark', 'Eier']"
     },
     "execution_count": 63,
     "metadata": {},
     "output_type": "execute_result"
    }
   ],
   "source": [
    "forgotten_items = [\"Quark\", \"Eier\"]\n",
    "forgotten_items"
   ],
   "metadata": {
    "collapsed": false,
    "pycharm": {
     "name": "#%%\n"
    }
   }
  },
  {
   "cell_type": "markdown",
   "source": [
    "### 7."
   ],
   "metadata": {
    "collapsed": false,
    "pycharm": {
     "name": "#%% md\n"
    }
   }
  },
  {
   "cell_type": "code",
   "execution_count": 64,
   "outputs": [
    {
     "data": {
      "text/plain": "['Quark', 'Eier']"
     },
     "execution_count": 64,
     "metadata": {},
     "output_type": "execute_result"
    }
   ],
   "source": [
    "tagesliste = forgotten_items\n",
    "tagesliste"
   ],
   "metadata": {
    "collapsed": false,
    "pycharm": {
     "name": "#%%\n"
    }
   }
  }
 ],
 "metadata": {
  "kernelspec": {
   "display_name": "Python 3",
   "language": "python",
   "name": "python3"
  },
  "language_info": {
   "codemirror_mode": {
    "name": "ipython",
    "version": 2
   },
   "file_extension": ".py",
   "mimetype": "text/x-python",
   "name": "python",
   "nbconvert_exporter": "python",
   "pygments_lexer": "ipython2",
   "version": "2.7.6"
  }
 },
 "nbformat": 4,
 "nbformat_minor": 0
}