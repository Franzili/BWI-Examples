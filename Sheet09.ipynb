{
 "cells": [
  {
   "cell_type": "markdown",
   "source": [
    "# 1. Python Taschenrechner"
   ],
   "metadata": {
    "collapsed": false,
    "pycharm": {
     "name": "#%% md\n"
    }
   }
  },
  {
   "cell_type": "code",
   "execution_count": 83,
   "metadata": {
    "collapsed": true,
    "pycharm": {
     "name": "#%%\n"
    }
   },
   "outputs": [
    {
     "name": "stdout",
     "output_type": "stream",
     "text": [
      "= 12.0\n"
     ]
    }
   ],
   "source": [
    "fertig = False\n",
    "while not fertig:\n",
    "    fertig = True\n",
    "    x = float(input(\"Gib eine Zahl ein: \"))             # 3\n",
    "    op = input(\"Gib eine Rechenoperation ein: \")        # *\n",
    "    y = float(input(\"Gib eine weitere Zahl ein: \"))     # 4\n",
    "    result = 0\n",
    "    if op == '+':\n",
    "        result = x + y\n",
    "    elif op == '-':\n",
    "        result = x - y\n",
    "    elif op == '*':\n",
    "        result = x * y\n",
    "    elif op == '/':\n",
    "        result = x / y\n",
    "    else:\n",
    "        print(\"Der Operand ist ungültig, versuchs nochmal.\")\n",
    "        fertig = False\n",
    "    if result == 42:\n",
    "        print(\"Die Antwort auf ALLES ist ...\")\n",
    "    print(\"=\", result)"
   ]
  },
  {
   "cell_type": "markdown",
   "source": [
    "# 2. Python - Listen (Einstieg)"
   ],
   "metadata": {
    "collapsed": false,
    "pycharm": {
     "name": "#%% md\n"
    }
   }
  },
  {
   "cell_type": "code",
   "execution_count": 84,
   "outputs": [],
   "source": [
    "tagesliste = [\"Nudeln\", \"Quark\", \"Eier\", \"Eis\", \"Tomaten\", \"Basilikum\", \"Nudeln\", \"Oregano\", \"Pizzateig\", \"Käse\", \"Nudeln\"]\n",
    "monatsliste = [\"Toilettenpapier\", \"Zahnbürste\", \"Duschgel\", \"Shampoo\", \"Taschentücher\"]"
   ],
   "metadata": {
    "collapsed": false,
    "pycharm": {
     "name": "#%%\n"
    }
   }
  },
  {
   "cell_type": "markdown",
   "source": [
    "### 1."
   ],
   "metadata": {
    "collapsed": false,
    "pycharm": {
     "name": "#%% md\n"
    }
   }
  },
  {
   "cell_type": "code",
   "execution_count": 85,
   "outputs": [
    {
     "data": {
      "text/plain": "['Nudeln',\n 'Quark',\n 'Eier',\n 'Eis',\n 'Tomaten',\n 'Basilikum',\n 'Nudeln',\n 'Oregano',\n 'Pizzateig',\n 'Käse',\n 'Nudeln',\n 'Toilettenpapier',\n 'Zahnbürste',\n 'Duschgel',\n 'Shampoo',\n 'Taschentücher']"
     },
     "execution_count": 85,
     "metadata": {},
     "output_type": "execute_result"
    }
   ],
   "source": [
    "neue_liste = tagesliste + monatsliste\n",
    "neue_liste"
   ],
   "metadata": {
    "collapsed": false,
    "pycharm": {
     "name": "#%%\n"
    }
   }
  },
  {
   "cell_type": "markdown",
   "source": [
    "### 2."
   ],
   "metadata": {
    "collapsed": false,
    "pycharm": {
     "name": "#%% md\n"
    }
   }
  },
  {
   "cell_type": "code",
   "execution_count": 86,
   "outputs": [
    {
     "data": {
      "text/plain": "3"
     },
     "execution_count": 86,
     "metadata": {},
     "output_type": "execute_result"
    }
   ],
   "source": [
    "neue_liste.count(\"Nudeln\")"
   ],
   "metadata": {
    "collapsed": false,
    "pycharm": {
     "name": "#%%\n"
    }
   }
  },
  {
   "cell_type": "markdown",
   "source": [
    "### 3."
   ],
   "metadata": {
    "collapsed": false,
    "pycharm": {
     "name": "#%% md\n"
    }
   }
  },
  {
   "cell_type": "code",
   "execution_count": 87,
   "outputs": [
    {
     "data": {
      "text/plain": "['Eier',\n 'Shampoo',\n 'Zahnbürste',\n 'Taschentücher',\n 'Oregano',\n 'Eis',\n 'Pizzateig',\n 'Toilettenpapier',\n 'Basilikum',\n 'Duschgel',\n 'Nudeln',\n 'Quark',\n 'Käse',\n 'Tomaten']"
     },
     "execution_count": 87,
     "metadata": {},
     "output_type": "execute_result"
    }
   ],
   "source": [
    "neue_liste = list(set(neue_liste))\n",
    "neue_liste"
   ],
   "metadata": {
    "collapsed": false,
    "pycharm": {
     "name": "#%%\n"
    }
   }
  },
  {
   "cell_type": "markdown",
   "source": [
    "### 4."
   ],
   "metadata": {
    "collapsed": false,
    "pycharm": {
     "name": "#%% md\n"
    }
   }
  },
  {
   "cell_type": "code",
   "execution_count": 88,
   "outputs": [
    {
     "data": {
      "text/plain": "['Eier',\n 'Shampoo',\n 'Zahnbürste',\n 'Taschentücher',\n 'Oregano',\n 'Eis',\n 'Pizzateig',\n 'Toilettenpapier',\n 'Basilikum',\n 'Duschgel',\n 'Nudeln',\n 'Quark',\n 'Käse',\n 'Tomaten',\n 'Nutella']"
     },
     "execution_count": 88,
     "metadata": {},
     "output_type": "execute_result"
    }
   ],
   "source": [
    "neue_liste.append(\"Nutella\")\n",
    "neue_liste"
   ],
   "metadata": {
    "collapsed": false,
    "pycharm": {
     "name": "#%%\n"
    }
   }
  },
  {
   "cell_type": "markdown",
   "source": [
    "### 5."
   ],
   "metadata": {
    "collapsed": false,
    "pycharm": {
     "name": "#%% md\n"
    }
   }
  },
  {
   "cell_type": "code",
   "execution_count": 89,
   "outputs": [
    {
     "data": {
      "text/plain": "['Eier',\n 'Shampoo',\n 'Zahnbürste',\n 'Taschentücher',\n 'Eis',\n 'Toilettenpapier',\n 'Basilikum',\n 'Duschgel',\n 'Nudeln',\n 'Quark',\n 'Käse',\n 'Tomaten',\n 'Nutella']"
     },
     "execution_count": 89,
     "metadata": {},
     "output_type": "execute_result"
    }
   ],
   "source": [
    "neue_liste.remove(\"Oregano\")\n",
    "neue_liste.remove(\"Pizzateig\")\n",
    "neue_liste"
   ],
   "metadata": {
    "collapsed": false,
    "pycharm": {
     "name": "#%%\n"
    }
   }
  },
  {
   "cell_type": "markdown",
   "source": [
    "### 6."
   ],
   "metadata": {
    "collapsed": false,
    "pycharm": {
     "name": "#%% md\n"
    }
   }
  },
  {
   "cell_type": "code",
   "execution_count": 90,
   "outputs": [
    {
     "data": {
      "text/plain": "['Quark', 'Eier']"
     },
     "execution_count": 90,
     "metadata": {},
     "output_type": "execute_result"
    }
   ],
   "source": [
    "forgotten_items = [\"Quark\", \"Eier\"]\n",
    "forgotten_items"
   ],
   "metadata": {
    "collapsed": false,
    "pycharm": {
     "name": "#%%\n"
    }
   }
  },
  {
   "cell_type": "markdown",
   "source": [
    "### 7."
   ],
   "metadata": {
    "collapsed": false,
    "pycharm": {
     "name": "#%% md\n"
    }
   }
  },
  {
   "cell_type": "code",
   "execution_count": 91,
   "outputs": [
    {
     "data": {
      "text/plain": "['Quark', 'Eier']"
     },
     "execution_count": 91,
     "metadata": {},
     "output_type": "execute_result"
    }
   ],
   "source": [
    "tagesliste = forgotten_items\n",
    "tagesliste"
   ],
   "metadata": {
    "collapsed": false,
    "pycharm": {
     "name": "#%%\n"
    }
   }
  }
 ],
 "metadata": {
  "kernelspec": {
   "display_name": "Python 3",
   "language": "python",
   "name": "python3"
  },
  "language_info": {
   "codemirror_mode": {
    "name": "ipython",
    "version": 2
   },
   "file_extension": ".py",
   "mimetype": "text/x-python",
   "name": "python",
   "nbconvert_exporter": "python",
   "pygments_lexer": "ipython2",
   "version": "2.7.6"
  }
 },
 "nbformat": 4,
 "nbformat_minor": 0
}