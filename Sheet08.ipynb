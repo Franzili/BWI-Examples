{
 "cells": [
  {
   "cell_type": "code",
   "execution_count": 21,
   "metadata": {
    "collapsed": true,
    "pycharm": {
     "name": "#%%\n"
    }
   },
   "outputs": [
    {
     "name": "stdout",
     "output_type": "stream",
     "text": [
      "Um den ggT dieser Zahlen zu berechnen, wird hier der Betrag genommen: x = 15, y = 5\n"
     ]
    }
   ],
   "source": [
    "x_str = input(\"1. Zahl:\")\n",
    "y_str = input(\"2. Zahl:\")\n",
    "x = int(x_str)\n",
    "y = int(y_str)\n",
    "\n",
    "if x < 0 or y < 0:\n",
    "    x = abs(x)\n",
    "    y = abs(y)\n",
    "    print(\"Um den ggT dieser Zahlen zu berechnen, wird hier der Betrag genommen: x = \" + str(x) + \", y = \" + str(y))"
   ]
  },
  {
   "cell_type": "code",
   "execution_count": 22,
   "outputs": [
    {
     "name": "stdout",
     "output_type": "stream",
     "text": [
      "1. Schleifendurchlauf\n",
      "2. Schleifendurchlauf\n",
      "3. Schleifendurchlauf\n"
     ]
    }
   ],
   "source": [
    "durchlauf = 0\n",
    "while x > 0:\n",
    "    if x < y:\n",
    "        h = x\n",
    "        x = y\n",
    "        y = h\n",
    "    x = x - y\n",
    "    durchlauf += 1\n",
    "    print(str(durchlauf) + \". Schleifendurchlauf\")"
   ],
   "metadata": {
    "collapsed": false,
    "pycharm": {
     "name": "#%%\n"
    }
   }
  },
  {
   "cell_type": "code",
   "execution_count": 23,
   "outputs": [
    {
     "name": "stdout",
     "output_type": "stream",
     "text": [
      "Der ggT von -15 und 5 ist 5.\n",
      "Die Berechnung hat 3 Schleifendurchläufe gebraucht.\n"
     ]
    }
   ],
   "source": [
    "print(\"Der ggT von \" + x_str + \" und \" + y_str + \" ist \" + str(y) + \".\")\n",
    "print(\"Die Berechnung hat \" + str(durchlauf) + \" Schleifendurchläufe gebraucht.\")"
   ],
   "metadata": {
    "collapsed": false,
    "pycharm": {
     "name": "#%%\n"
    }
   }
  }
 ],
 "metadata": {
  "kernelspec": {
   "display_name": "Python 3",
   "language": "python",
   "name": "python3"
  },
  "language_info": {
   "codemirror_mode": {
    "name": "ipython",
    "version": 2
   },
   "file_extension": ".py",
   "mimetype": "text/x-python",
   "name": "python",
   "nbconvert_exporter": "python",
   "pygments_lexer": "ipython2",
   "version": "2.7.6"
  }
 },
 "nbformat": 4,
 "nbformat_minor": 0
}