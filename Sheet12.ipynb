{
 "cells": [
  {
   "cell_type": "markdown",
   "source": [
    "# Aminosäuren"
   ],
   "metadata": {
    "collapsed": false,
    "pycharm": {
     "name": "#%% md\n"
    }
   }
  },
  {
   "cell_type": "code",
   "execution_count": 45,
   "outputs": [
    {
     "name": "stdout",
     "output_type": "stream",
     "text": [
      "Sequenz 1: ARNNARWYYVOOUEG\n",
      "Sequenz 2: ARRNNNDQVUOOO\n"
     ]
    }
   ],
   "source": [
    "# Liest zwei Aminosäuresequenzen ein und gibt diese zurück\n",
    "def input_amino_seqs():\n",
    "    alphabet = \"ARNDCQEGHILKMFPSTWYVUO\"\n",
    "    valid_amino_seq = False\n",
    "    seq_a = \"\"\n",
    "    seq_b = \"\"\n",
    "    while not valid_amino_seq:\n",
    "        seq_a = input(\"Gib eine Sequenz ein: \").upper()\n",
    "        seq_b = input(\"Gib eine zweite Sequenz gleicher Länge ein: \").upper()\n",
    "\n",
    "        # Prüfe, ob die Eingaben valide Aminosäuresequenzen sind\n",
    "        valid_amino_seq = True\n",
    "        for char in (seq_a + seq_b):\n",
    "            if char not in alphabet:\n",
    "                valid_amino_seq = False\n",
    "                print(\"Ups, irgendwas stimmt hier nicht... Ich erwarte Aminosäuren!\")\n",
    "                break\n",
    "    return seq_a, seq_b\n",
    "\n",
    "seq_1, seq_2 = input_amino_seqs()\n",
    "print(\"Sequenz 1:\", seq_1)\n",
    "print(\"Sequenz 2:\", seq_2)"
   ],
   "metadata": {
    "collapsed": false,
    "pycharm": {
     "name": "#%%\n"
    }
   }
  },
  {
   "cell_type": "code",
   "execution_count": 46,
   "outputs": [
    {
     "name": "stdout",
     "output_type": "stream",
     "text": [
      "Sequenzen zum Vergleich: ARNNARWYYVOOU ARRNNNDQVUOOO\n"
     ]
    }
   ],
   "source": [
    "# Wenn die zwei Eingabesequenzen unterschiedlich lang\n",
    "# wird die länge Sequenz auf die der kürzeren gekürzt\n",
    "def cut_to_same_len(seq_a, seq_b):\n",
    "    len_a = len(seq_a)\n",
    "    len_b = len(seq_b)\n",
    "    if not (len_a == len_b):\n",
    "        diff = len_a - len_b\n",
    "        if diff < 0:    # B ist länger als A\n",
    "            seq_b = seq_b[:len_b - abs(diff)]\n",
    "        else:           # A ist länger als B\n",
    "            seq_a = seq_a[:len_a - diff]\n",
    "    return seq_a, seq_b\n",
    "\n",
    "seq_1, seq_2 = cut_to_same_len(seq_1, seq_2)\n",
    "print(\"Sequenzen zum Vergleich:\", seq_1, seq_2)"
   ],
   "metadata": {
    "collapsed": false,
    "pycharm": {
     "name": "#%%\n"
    }
   }
  },
  {
   "cell_type": "code",
   "execution_count": 47,
   "outputs": [
    {
     "name": "stdout",
     "output_type": "stream",
     "text": [
      "Die beiden Sequenzen beinhalten an 5 Positionen die gleiche Aminosäure, das sind 38.46153846153847 %.\n"
     ]
    }
   ],
   "source": [
    "# Gibt den Grad der Übereinstimmung zweier Sequenzen als\n",
    "# Anzahl übereinstimmender Positionen und prozentual aus\n",
    "def compare_seqs(seq_a, seq_b):\n",
    "    num_equal_aminos = 0\n",
    "    len_seqs = len(seq_a)\n",
    "    for i in range(0, len_seqs):\n",
    "        if seq_a[i] == seq_b[i]:\n",
    "            num_equal_aminos += 1\n",
    "    print(\"Die beiden Sequenzen beinhalten an\", num_equal_aminos,\n",
    "          \"Positionen die gleiche Aminosäure, das sind\", (num_equal_aminos/len_seqs) * 100, \"%.\")\n",
    "\n",
    "compare_seqs(seq_1, seq_2)"
   ],
   "metadata": {
    "collapsed": false,
    "pycharm": {
     "name": "#%%\n"
    }
   }
  },
  {
   "cell_type": "markdown",
   "source": [
    "# Palindrome"
   ],
   "metadata": {
    "collapsed": false,
    "pycharm": {
     "name": "#%% md\n"
    }
   }
  },
  {
   "cell_type": "code",
   "execution_count": 48,
   "outputs": [],
   "source": [
    "# Prüfe, ob eine gegebene Sequenz ein Palindrom einer gegebenen Minimallänge ist\n",
    "def palicheck(seq, min_len):\n",
    "    if len(seq) < min_len:\n",
    "        return False\n",
    "    return seq == seq[::-1]"
   ],
   "metadata": {
    "collapsed": false,
    "pycharm": {
     "name": "#%%\n"
    }
   }
  },
  {
   "cell_type": "code",
   "execution_count": 49,
   "outputs": [],
   "source": [
    "# Überprüfe Teilsequenzen einer Sequenz auf Wortpalindrome\n",
    "def varipalicheck(min_len, max_len, seq):\n",
    "    palindromes = {}\n",
    "    for i in range(min_len, max_len + 1):\n",
    "        pali_len_i = []\n",
    "        for start_pos in range(0, len(seq)-i-1):\n",
    "            substring = seq[start_pos:start_pos+i]\n",
    "            if palicheck(substring, min_len):\n",
    "                pali_len_i.append(substring)\n",
    "        if not len(pali_len_i) == 0:\n",
    "            palindromes[i] = pali_len_i\n",
    "\n",
    "    print(\"Eingabesequenz:\", seq)\n",
    "    print(\"Folgende Wortpalindrome konnten gefunden werden:\\n\", palindromes)\n",
    "    return palindromes"
   ],
   "metadata": {
    "collapsed": false,
    "pycharm": {
     "name": "#%%\n"
    }
   }
  },
  {
   "cell_type": "code",
   "execution_count": 50,
   "outputs": [
    {
     "name": "stdout",
     "output_type": "stream",
     "text": [
      "Eingabesequenz: GCCACATTACGT\n",
      "Folgende Wortpalindrome konnten gefunden werden:\n",
      " {2: ['CC', 'TT'], 3: ['CAC', 'ACA'], 4: ['ATTA'], 6: ['CATTAC']}\n"
     ]
    },
    {
     "data": {
      "text/plain": "{2: ['CC', 'TT'], 3: ['CAC', 'ACA'], 4: ['ATTA'], 6: ['CATTAC']}"
     },
     "execution_count": 50,
     "metadata": {},
     "output_type": "execute_result"
    }
   ],
   "source": [
    "min_len = 0\n",
    "max_len = 0\n",
    "while min_len < 2 and max_len < 2:\n",
    "    try:\n",
    "        min_len = int(input(\"Minimallänge: \"))\n",
    "        max_len = int(input(\"Maximallänge: \"))\n",
    "    except Exception:\n",
    "        print(\"Es sollten schon Zahlen sein...\")\n",
    "\n",
    "seq = input(\"Gib eine Sequenz ein: \")\n",
    "varipalicheck(min_len, max_len, seq)"
   ],
   "metadata": {
    "collapsed": false,
    "pycharm": {
     "name": "#%%\n"
    }
   }
  },
  {
   "cell_type": "markdown",
   "source": [],
   "metadata": {
    "collapsed": false,
    "pycharm": {
     "name": "#%% md\n"
    }
   }
  },
  {
   "cell_type": "code",
   "execution_count": 51,
   "outputs": [
    {
     "name": "stdout",
     "output_type": "stream",
     "text": [
      "Eingabesequenz: GCCACATTACGT\n",
      "Folgende Wortpalindrome konnten gefunden werden:\n",
      " {2: ['CC', 'TT'], 3: ['CAC', 'ACA'], 4: ['ATTA'], 6: ['CATTAC']}\n",
      "Ohne kleinere Teilpalindrome von größeren:\n",
      " {2: ['CC'], 3: ['CAC', 'ACA'], 4: [], 6: ['CATTAC']}\n"
     ]
    },
    {
     "data": {
      "text/plain": "{2: ['CC'], 3: ['CAC', 'ACA'], 4: [], 6: ['CATTAC']}"
     },
     "execution_count": 51,
     "metadata": {},
     "output_type": "execute_result"
    }
   ],
   "source": [
    "# Entfernt kleinere Teilpalindrome aus aus Wortpalindromen in einem gegebenen Dictionary\n",
    "def bonus(dict_of_palindromes):\n",
    "    pali_keys = dict_of_palindromes.keys()  # Die Schlüssel im Dict sind die Längen der Palindrome\n",
    "    for key in pali_keys:\n",
    "        larger_pali_keys = [k for k in pali_keys if k > key]    # Liste aller keys > key\n",
    "        for pali in dict_of_palindromes[key]:\n",
    "            for second_key in larger_pali_keys:     # Vergleich mit längerem Palindrom\n",
    "                for larger_pali in dict_of_palindromes[second_key]:\n",
    "                    if pali in larger_pali:\n",
    "                        # Prüfen, dass wir das Palindrom nicht bereits gelöscht haben\n",
    "                        if pali in dict_of_palindromes[key]:\n",
    "                            dict_of_palindromes[key].remove(pali)\n",
    "    print(\"Ohne kleinere Teilpalindrome von größeren:\\n\", dict_of_palindromes)\n",
    "    return dict_of_palindromes\n",
    "\n",
    "bonus(varipalicheck(min_len, max_len, seq))"
   ],
   "metadata": {
    "collapsed": false,
    "pycharm": {
     "name": "#%%\n"
    }
   }
  }
 ],
 "metadata": {
  "kernelspec": {
   "display_name": "Python 3",
   "language": "python",
   "name": "python3"
  },
  "language_info": {
   "codemirror_mode": {
    "name": "ipython",
    "version": 2
   },
   "file_extension": ".py",
   "mimetype": "text/x-python",
   "name": "python",
   "nbconvert_exporter": "python",
   "pygments_lexer": "ipython2",
   "version": "2.7.6"
  }
 },
 "nbformat": 4,
 "nbformat_minor": 0
}